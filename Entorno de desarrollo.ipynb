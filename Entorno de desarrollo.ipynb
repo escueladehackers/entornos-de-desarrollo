{
 "cells": [
  {
   "cell_type": "markdown",
   "metadata": {},
   "source": [
    "Para la practica de entornos de desarrollo usaremos Vagrant como administrador de ambientes y a Ansible como provisionador."
   ]
  },
  {
   "cell_type": "markdown",
   "metadata": {},
   "source": [
    "# Boxes\n",
    "\n",
    "Boxes son paquetes que contienen un sistema o estructura base para los ambientes de Vagrant.\n",
    "\n",
    "## Administración manual de boxes\n",
    "\n",
    "Vagrant provee el comando `box` para la adminstración de las boxes."
   ]
  },
  {
   "cell_type": "code",
   "execution_count": 4,
   "metadata": {
    "collapsed": false
   },
   "outputs": [
    {
     "name": "stdout",
     "output_type": "stream",
     "text": [
      "\u001b[0mUsage: vagrant box <subcommand> [<args>]\r\n",
      "\r\n",
      "Available subcommands:\r\n",
      "     add\r\n",
      "     list\r\n",
      "     outdated\r\n",
      "     remove\r\n",
      "     repackage\r\n",
      "     update\r\n",
      "\r\n",
      "For help on any individual subcommand run `vagrant box <subcommand> -h`\r\n",
      "\u001b[0m\r\n"
     ]
    }
   ],
   "source": [
    "vagrant box --help"
   ]
  },
  {
   "cell_type": "markdown",
   "metadata": {},
   "source": [
    "## Agregar la caja de Ubuntu\n",
    "\n",
    "Debemo de proveer el identificador, la url o la ruta de la caja."
   ]
  },
  {
   "cell_type": "code",
   "execution_count": 5,
   "metadata": {
    "collapsed": false
   },
   "outputs": [
    {
     "name": "stdout",
     "output_type": "stream",
     "text": [
      "\u001b[1m==> box: Loading metadata for box 'ubuntu/trusty64'\u001b[0m\r\n",
      "\u001b[0m    box: URL: https://atlas.hashicorp.com/ubuntu/trusty64\u001b[0m\r\n",
      "\u001b[1m==> box: Adding box 'ubuntu/trusty64' (v20160708.1.2) for provider: virtualbox\u001b[0m\r\n",
      "\u001b[0m    box: Downloading: https://atlas.hashicorp.com/ubuntu/boxes/trusty64/versions/20160708.1.2/providers/virtualbox.box\u001b[0m\r\n",
      "\u001b[0m\r",
      "\u001b[K\u001b[0m\u001b[0m    box: Progress: 0% (Rate: 0/s, Estimated time remaining: --:--:--)\u001b[0m\u001b[0m\r",
      "\u001b[K\u001b[0m\u001b[0m    box: Progress: 0% (Rate: 4d/s, Estimated time remaining: --:--:--)\u001b[0m\u001b[0m\r",
      "\u001b[K\u001b[0m\u001b[0m    box: Progress: 0% (Rate: 350k/s, Estimated time remaining: 0:40:41)\u001b[0m\u001b[0m\r",
      "\u001b[K\u001b[0m\u001b[0m    box: Progress: 0% (Rate: 828k/s, Estimated time remaining: 0:12:54)\u001b[0m\u001b[0m\r",
      "\u001b[K\u001b[0m\u001b[0m    box: Progress: 0% (Rate: 983k/s, Estimated time remaining: 0:09:38)\u001b[0m\u001b[0m\r",
      "\u001b[K\u001b[0m\u001b[0m    box: Progress: 0% (Rate: 1061k/s, Estimated time remaining: 0:08:22)\u001b[0m\u001b[0m\r",
      "\u001b[K\u001b[0m\u001b[0m    box: Progress: 1% (Rate: 1108k/s, Estimated time remaining: 0:07:41)\u001b[0m\u001b[0m\r",
      "\u001b[K\u001b[0m\u001b[0m    box: Progress: 1% (Rate: 1292k/s, Estimated time remaining: 0:07:15)\u001b[0m\u001b[0m\r",
      "\u001b[K\u001b[0m\u001b[0m    box: Progress: 1% (Rate: 1292k/s, Estimated time remaining: 0:06:57)\u001b[0m\u001b[0m\r",
      "\u001b[K\u001b[0m\u001b[0m    box: Progress: 2% (Rate: 1293k/s, Estimated time remaining: 0:06:43)\u001b[0m\u001b[0m\r",
      "\u001b[K\u001b[0m\u001b[0m    box: Progress: 2% (Rate: 1293k/s, Estimated time remaining: 0:06:33)\u001b[0m\u001b[0m\r",
      "\u001b[K\u001b[0m\u001b[0m    box: Progress: 2% (Rate: 1293k/s, Estimated time remaining: 0:06:25)\u001b[0m\u001b[0m\r",
      "\u001b[K\u001b[0m\u001b[0m    box: Progress: 3% (Rate: 1293k/s, Estimated time remaining: 0:06:18)\u001b[0m\u001b[0m\r",
      "\u001b[K\u001b[0m\u001b[0m    box: Progress: 3% (Rate: 1229k/s, Estimated time remaining: 0:06:20)\u001b[0m\u001b[0m\r",
      "\u001b[K\u001b[0m\u001b[0m    box: Progress: 3% (Rate: 1221k/s, Estimated time remaining: 0:06:16)\u001b[0m\u001b[0m\r",
      "\u001b[K\u001b[0m\u001b[0m    box: Progress: 3% (Rate: 1221k/s, Estimated time remaining: 0:06:11)\u001b[0m\u001b[0m\r",
      "\u001b[K\u001b[0m\u001b[0m    box: Progress: 4% (Rate: 1221k/s, Estimated time remaining: 0:06:06)\u001b[0m\u001b[0m\r",
      "\u001b[K\u001b[0m\u001b[0m    box: Progress: 4% (Rate: 1221k/s, Estimated time remaining: 0:06:02)\u001b[0m\u001b[0m\r",
      "\u001b[K\u001b[0m\u001b[0m    box: Progress: 4% (Rate: 1284k/s, Estimated time remaining: 0:05:58)\u001b[0m\u001b[0m\r",
      "\u001b[K\u001b[0m\u001b[0m    box: Progress: 5% (Rate: 1292k/s, Estimated time remaining: 0:05:55)\u001b[0m\u001b[0m\r",
      "\u001b[K\u001b[0m\u001b[0m    box: Progress: 5% (Rate: 1292k/s, Estimated time remaining: 0:05:52)\u001b[0m\u001b[0m\r",
      "\u001b[K\u001b[0m\u001b[0m    box: Progress: 5% (Rate: 1292k/s, Estimated time remaining: 0:05:49)\u001b[0m\u001b[0m\r",
      "\u001b[K\u001b[0m\u001b[0m    box: Progress: 5% (Rate: 1235k/s, Estimated time remaining: 0:05:50)\u001b[0m\u001b[0m\r",
      "\u001b[K\u001b[0m\u001b[0m    box: Progress: 6% (Rate: 1286k/s, Estimated time remaining: 0:05:44)\u001b[0m\u001b[0m\r",
      "\u001b[K\u001b[0m\u001b[0m    box: Progress: 6% (Rate: 1284k/s, Estimated time remaining: 0:05:42)\u001b[0m\u001b[0m\r",
      "\u001b[K\u001b[0m\u001b[0m    box: Progress: 6% (Rate: 1284k/s, Estimated time remaining: 0:05:39)\u001b[0m\u001b[0m\r",
      "\u001b[K\u001b[0m\u001b[0m    box: Progress: 7% (Rate: 1283k/s, Estimated time remaining: 0:05:37)\u001b[0m\u001b[0m\r",
      "\u001b[K\u001b[0m\u001b[0m    box: Progress: 7% (Rate: 1342k/s, Estimated time remaining: 0:05:35)\u001b[0m\u001b[0m\r",
      "\u001b[K\u001b[0m\u001b[0m    box: Progress: 7% (Rate: 1289k/s, Estimated time remaining: 0:05:33)\u001b[0m\u001b[0m\r",
      "\u001b[K\u001b[0m\u001b[0m    box: Progress: 8% (Rate: 1292k/s, Estimated time remaining: 0:05:31)\u001b[0m\u001b[0m\r",
      "\u001b[K\u001b[0m\u001b[0m    box: Progress: 8% (Rate: 1291k/s, Estimated time remaining: 0:05:29)\u001b[0m\u001b[0m\r",
      "\u001b[K\u001b[0m\u001b[0m    box: Progress: 8% (Rate: 1286k/s, Estimated time remaining: 0:05:28)\u001b[0m\u001b[0m\r",
      "\u001b[K\u001b[0m\u001b[0m    box: Progress: 8% (Rate: 1285k/s, Estimated time remaining: 0:05:26)\u001b[0m\u001b[0m\r",
      "\u001b[K\u001b[0m\u001b[0m    box: Progress: 9% (Rate: 1285k/s, Estimated time remaining: 0:05:24)\u001b[0m\u001b[0m\r",
      "\u001b[K\u001b[0m\u001b[0m    box: Progress: 9% (Rate: 1284k/s, Estimated time remaining: 0:05:23)\u001b[0m\u001b[0m\r",
      "\u001b[K\u001b[0m\u001b[0m    box: Progress: 9% (Rate: 1214k/s, Estimated time remaining: 0:05:23)\u001b[0m\u001b[0m\r",
      "\u001b[K\u001b[0m\u001b[0m    box: Progress: 10% (Rate: 1286k/s, Estimated time remaining: 0:05:20)\u001b[0m\u001b[0m\r",
      "\u001b[K\u001b[0m\u001b[0m    box: Progress: 10% (Rate: 1287k/s, Estimated time remaining: 0:05:18)\u001b[0m\u001b[0m\r",
      "\u001b[K\u001b[0m\u001b[0m    box: Progress: 10% (Rate: 1287k/s, Estimated time remaining: 0:05:16)\u001b[0m\u001b[0m\r",
      "\u001b[K\u001b[0m\u001b[0m    box: Progress: 11% (Rate: 1287k/s, Estimated time remaining: 0:05:15)\u001b[0m\u001b[0m\r",
      "\u001b[K\u001b[0m\u001b[0m    box: Progress: 11% (Rate: 1363k/s, Estimated time remaining: 0:05:13)\u001b[0m\u001b[0m\r",
      "\u001b[K\u001b[0m\u001b[0m    box: Progress: 11% (Rate: 1292k/s, Estimated time remaining: 0:05:12)\u001b[0m\u001b[0m\r",
      "\u001b[K\u001b[0m\u001b[0m    box: Progress: 11% (Rate: 1293k/s, Estimated time remaining: 0:05:11)\u001b[0m\u001b[0m\r",
      "\u001b[K\u001b[0m\u001b[0m    box: Progress: 12% (Rate: 1293k/s, Estimated time remaining: 0:05:09)\u001b[0m\u001b[0m\r",
      "\u001b[K\u001b[0m\u001b[0m    box: Progress: 12% (Rate: 1293k/s, Estimated time remaining: 0:05:08)\u001b[0m\u001b[0m\r",
      "\u001b[K\u001b[0m\u001b[0m    box: Progress: 12% (Rate: 1293k/s, Estimated time remaining: 0:05:06)\u001b[0m\u001b[0m\r",
      "\u001b[K\u001b[0m\u001b[0m    box: Progress: 13% (Rate: 1289k/s, Estimated time remaining: 0:05:05)\u001b[0m\u001b[0m\r",
      "\u001b[K\u001b[0m\u001b[0m    box: Progress: 13% (Rate: 1289k/s, Estimated time remaining: 0:05:04)\u001b[0m\u001b[0m\r",
      "\u001b[K\u001b[0m\u001b[0m    box: Progress: 13% (Rate: 1289k/s, Estimated time remaining: 0:05:02)\u001b[0m\u001b[0m\r",
      "\u001b[K\u001b[0m\u001b[0m    box: Progress: 13% (Rate: 1218k/s, Estimated time remaining: 0:05:02)\u001b[0m\u001b[0m\r",
      "\u001b[K\u001b[0m\u001b[0m    box: Progress: 14% (Rate: 1265k/s, Estimated time remaining: 0:05:01)\u001b[0m\u001b[0m\r",
      "\u001b[K\u001b[0m\u001b[0m    box: Progress: 14% (Rate: 1222k/s, Estimated time remaining: 0:05:00)\u001b[0m\u001b[0m\r",
      "\u001b[K\u001b[0m\u001b[0m    box: Progress: 14% (Rate: 1190k/s, Estimated time remaining: 0:05:00)\u001b[0m\u001b[0m\r",
      "\u001b[K\u001b[0m\u001b[0m    box: Progress: 15% (Rate: 1169k/s, Estimated time remaining: 0:04:59)\u001b[0m\u001b[0m\r",
      "\u001b[K\u001b[0m\u001b[0m    box: Progress: 15% (Rate: 1221k/s, Estimated time remaining: 0:04:58)\u001b[0m\u001b[0m\r",
      "\u001b[K\u001b[0m\u001b[0m    box: Progress: 15% (Rate: 1156k/s, Estimated time remaining: 0:04:58)\u001b[0m\u001b[0m\r",
      "\u001b[K\u001b[0m\u001b[0m    box: Progress: 15% (Rate: 1178k/s, Estimated time remaining: 0:04:57)\u001b[0m\u001b[0m\r",
      "\u001b[K\u001b[0m\u001b[0m    box: Progress: 16% (Rate: 1197k/s, Estimated time remaining: 0:04:56)\u001b[0m\u001b[0m\r",
      "\u001b[K\u001b[0m\u001b[0m    box: Progress: 16% (Rate: 1212k/s, Estimated time remaining: 0:04:55)\u001b[0m\u001b[0m\r",
      "\u001b[K\u001b[0m\u001b[0m    box: Progress: 16% (Rate: 1230k/s, Estimated time remaining: 0:04:53)\u001b[0m\u001b[0m\r",
      "\u001b[K\u001b[0m\u001b[0m    box: Progress: 17% (Rate: 1249k/s, Estimated time remaining: 0:04:52)\u001b[0m\u001b[0m\r",
      "\u001b[K\u001b[0m\u001b[0m    box: Progress: 17% (Rate: 1272k/s, Estimated time remaining: 0:04:51)\u001b[0m\u001b[0m\r",
      "\u001b[K\u001b[0m\u001b[0m    box: Progress: 17% (Rate: 1280k/s, Estimated time remaining: 0:04:50)\u001b[0m\u001b[0m\r",
      "\u001b[K\u001b[0m\u001b[0m    box: Progress: 17% (Rate: 1287k/s, Estimated time remaining: 0:04:48)\u001b[0m\u001b[0m\r",
      "\u001b[K\u001b[0m\u001b[0m    box: Progress: 18% (Rate: 1288k/s, Estimated time remaining: 0:04:47)\u001b[0m\u001b[0m\r",
      "\u001b[K\u001b[0m\u001b[0m    box: Progress: 18% (Rate: 1288k/s, Estimated time remaining: 0:04:46)\u001b[0m\u001b[0m\r",
      "\u001b[K\u001b[0m\u001b[0m    box: Progress: 18% (Rate: 1282k/s, Estimated time remaining: 0:04:45)\u001b[0m\u001b[0m\r",
      "\u001b[K\u001b[0m\u001b[0m    box: Progress: 19% (Rate: 1286k/s, Estimated time remaining: 0:04:44)\u001b[0m\u001b[0m\r",
      "\u001b[K\u001b[0m\u001b[0m    box: Progress: 19% (Rate: 1286k/s, Estimated time remaining: 0:04:42)\u001b[0m\u001b[0m\r",
      "\u001b[K\u001b[0m\u001b[0m    box: Progress: 19% (Rate: 1286k/s, Estimated time remaining: 0:04:41)\u001b[0m\u001b[0m\r",
      "\u001b[K\u001b[0m\u001b[0m    box: Progress: 20% (Rate: 1285k/s, Estimated time remaining: 0:04:40)\u001b[0m\u001b[0m\r",
      "\u001b[K\u001b[0m\u001b[0m    box: Progress: 20% (Rate: 1291k/s, Estimated time remaining: 0:04:39)\u001b[0m\u001b[0m\r",
      "\u001b[K\u001b[0m\u001b[0m    box: Progress: 20% (Rate: 1292k/s, Estimated time remaining: 0:04:37)\u001b[0m\u001b[0m\r",
      "\u001b[K\u001b[0m\u001b[0m    box: Progress: 20% (Rate: 1292k/s, Estimated time remaining: 0:04:36)\u001b[0m\u001b[0m\r",
      "\u001b[K\u001b[0m\u001b[0m    box: Progress: 21% (Rate: 1293k/s, Estimated time remaining: 0:04:35)\u001b[0m\u001b[0m\r",
      "\u001b[K\u001b[0m\u001b[0m    box: Progress: 21% (Rate: 1293k/s, Estimated time remaining: 0:04:34)\u001b[0m\u001b[0m\r",
      "\u001b[K\u001b[0m\u001b[0m    box: Progress: 21% (Rate: 1239k/s, Estimated time remaining: 0:04:34)\u001b[0m\u001b[0m\r",
      "\u001b[K\u001b[0m\u001b[0m    box: Progress: 22% (Rate: 1286k/s, Estimated time remaining: 0:04:32)\u001b[0m\u001b[0m\r",
      "\u001b[K\u001b[0m\u001b[0m    box: Progress: 22% (Rate: 1284k/s, Estimated time remaining: 0:04:31)\u001b[0m\u001b[0m\r",
      "\u001b[K\u001b[0m\u001b[0m    box: Progress: 22% (Rate: 1283k/s, Estimated time remaining: 0:04:29)\u001b[0m\u001b[0m\r",
      "\u001b[K\u001b[0m\u001b[0m    box: Progress: 22% (Rate: 1211k/s, Estimated time remaining: 0:04:29)\u001b[0m\u001b[0m\r",
      "\u001b[K\u001b[0m\u001b[0m    box: Progress: 23% (Rate: 1331k/s, Estimated time remaining: 0:04:27)\u001b[0m\u001b[0m\r",
      "\u001b[K\u001b[0m\u001b[0m    box: Progress: 23% (Rate: 1284k/s, Estimated time remaining: 0:04:26)\u001b[0m\u001b[0m\r",
      "\u001b[K\u001b[0m\u001b[0m    box: Progress: 23% (Rate: 1286k/s, Estimated time remaining: 0:04:25)\u001b[0m\u001b[0m\r",
      "\u001b[K\u001b[0m\u001b[0m    box: Progress: 24% (Rate: 1284k/s, Estimated time remaining: 0:04:24)\u001b[0m\u001b[0m\r",
      "\u001b[K\u001b[0m\u001b[0m    box: Progress: 24% (Rate: 1359k/s, Estimated time remaining: 0:04:23)\u001b[0m\u001b[0m\r",
      "\u001b[K\u001b[0m\u001b[0m    box: Progress: 24% (Rate: 1292k/s, Estimated time remaining: 0:04:21)\u001b[0m\u001b[0m\r",
      "\u001b[K\u001b[0m\u001b[0m    box: Progress: 25% (Rate: 1292k/s, Estimated time remaining: 0:04:20)\u001b[0m\u001b[0m\r",
      "\u001b[K\u001b[0m\u001b[0m    box: Progress: 25% (Rate: 1292k/s, Estimated time remaining: 0:04:19)\u001b[0m\u001b[0m\r",
      "\u001b[K\u001b[0m\u001b[0m    box: Progress: 25% (Rate: 1293k/s, Estimated time remaining: 0:04:18)\u001b[0m\u001b[0m\r",
      "\u001b[K\u001b[0m\u001b[0m    box: Progress: 25% (Rate: 1293k/s, Estimated time remaining: 0:04:17)\u001b[0m\u001b[0m\r",
      "\u001b[K\u001b[0m\u001b[0m    box: Progress: 26% (Rate: 1285k/s, Estimated time remaining: 0:04:16)\u001b[0m\u001b[0m\r",
      "\u001b[K\u001b[0m\u001b[0m    box: Progress: 26% (Rate: 1284k/s, Estimated time remaining: 0:04:15)\u001b[0m\u001b[0m\r",
      "\u001b[K\u001b[0m\u001b[0m    box: Progress: 26% (Rate: 1285k/s, Estimated time remaining: 0:04:14)\u001b[0m\u001b[0m\r",
      "\u001b[K\u001b[0m\u001b[0m    box: Progress: 27% (Rate: 1285k/s, Estimated time remaining: 0:04:12)\u001b[0m\u001b[0m\r",
      "\u001b[K\u001b[0m\u001b[0m    box: Progress: 27% (Rate: 1279k/s, Estimated time remaining: 0:04:11)\u001b[0m\u001b[0m\r",
      "\u001b[K\u001b[0m\u001b[0m    box: Progress: 27% (Rate: 1286k/s, Estimated time remaining: 0:04:10)\u001b[0m\u001b[0m\r",
      "\u001b[K\u001b[0m\u001b[0m    box: Progress: 28% (Rate: 1287k/s, Estimated time remaining: 0:04:09)\u001b[0m\u001b[0m\r",
      "\u001b[K\u001b[0m\u001b[0m    box: Progress: 28% (Rate: 1286k/s, Estimated time remaining: 0:04:08)\u001b[0m\u001b[0m\r",
      "\u001b[K\u001b[0m\u001b[0m    box: Progress: 28% (Rate: 1287k/s, Estimated time remaining: 0:04:07)\u001b[0m\u001b[0m\r",
      "\u001b[K\u001b[0m\u001b[0m    box: Progress: 28% (Rate: 1293k/s, Estimated time remaining: 0:04:06)\u001b[0m\u001b[0m\r",
      "\u001b[K\u001b[0m\u001b[0m    box: Progress: 29% (Rate: 1293k/s, Estimated time remaining: 0:04:05)\u001b[0m\u001b[0m\r",
      "\u001b[K\u001b[0m\u001b[0m    box: Progress: 29% (Rate: 1293k/s, Estimated time remaining: 0:04:04)\u001b[0m\u001b[0m\r",
      "\u001b[K\u001b[0m\u001b[0m    box: Progress: 29% (Rate: 1292k/s, Estimated time remaining: 0:04:03)\u001b[0m\u001b[0m\r",
      "\u001b[K\u001b[0m\u001b[0m    box: Progress: 30% (Rate: 1292k/s, Estimated time remaining: 0:04:01)\u001b[0m\u001b[0m\r",
      "\u001b[K\u001b[0m\u001b[0m    box: Progress: 30% (Rate: 1288k/s, Estimated time remaining: 0:04:00)\u001b[0m\u001b[0m\r",
      "\u001b[K\u001b[0m\u001b[0m    box: Progress: 30% (Rate: 1285k/s, Estimated time remaining: 0:03:59)\u001b[0m\u001b[0m\r",
      "\u001b[K\u001b[0m\u001b[0m    box: Progress: 31% (Rate: 1285k/s, Estimated time remaining: 0:03:58)\u001b[0m\u001b[0m\r",
      "\u001b[K\u001b[0m\u001b[0m    box: Progress: 31% (Rate: 1286k/s, Estimated time remaining: 0:03:57)\u001b[0m\u001b[0m\r",
      "\u001b[K\u001b[0m\u001b[0m    box: Progress: 31% (Rate: 1280k/s, Estimated time remaining: 0:03:56)\u001b[0m\u001b[0m\r",
      "\u001b[K\u001b[0m\u001b[0m    box: Progress: 31% (Rate: 1280k/s, Estimated time remaining: 0:03:55)\u001b[0m\u001b[0m\r",
      "\u001b[K\u001b[0m\u001b[0m    box: Progress: 32% (Rate: 1283k/s, Estimated time remaining: 0:03:54)\u001b[0m\u001b[0m\r",
      "\u001b[K\u001b[0m\u001b[0m    box: Progress: 32% (Rate: 1283k/s, Estimated time remaining: 0:03:53)\u001b[0m\u001b[0m\r",
      "\u001b[K\u001b[0m\u001b[0m    box: Progress: 32% (Rate: 1283k/s, Estimated time remaining: 0:03:52)\u001b[0m\u001b[0m\r",
      "\u001b[K\u001b[0m\u001b[0m    box: Progress: 33% (Rate: 1288k/s, Estimated time remaining: 0:03:51)\u001b[0m\u001b[0m\r",
      "\u001b[K\u001b[0m\u001b[0m    box: Progress: 33% (Rate: 1292k/s, Estimated time remaining: 0:03:50)\u001b[0m\u001b[0m\r",
      "\u001b[K\u001b[0m\u001b[0m    box: Progress: 33% (Rate: 1292k/s, Estimated time remaining: 0:03:49)\u001b[0m\u001b[0m\r",
      "\u001b[K\u001b[0m\u001b[0m    box: Progress: 33% (Rate: 1292k/s, Estimated time remaining: 0:03:48)\u001b[0m\u001b[0m\r",
      "\u001b[K\u001b[0m\u001b[0m    box: Progress: 34% (Rate: 1292k/s, Estimated time remaining: 0:03:46)\u001b[0m\u001b[0m\r",
      "\u001b[K\u001b[0m\u001b[0m    box: Progress: 34% (Rate: 1218k/s, Estimated time remaining: 0:03:45)\u001b[0m\u001b[0m\r",
      "\u001b[K\u001b[0m\u001b[0m    box: Progress: 34% (Rate: 1286k/s, Estimated time remaining: 0:03:44)\u001b[0m\u001b[0m\r",
      "\u001b[K\u001b[0m\u001b[0m    box: Progress: 35% (Rate: 1287k/s, Estimated time remaining: 0:03:43)\u001b[0m\u001b[0m\r",
      "\u001b[K\u001b[0m\u001b[0m    box: Progress: 35% (Rate: 1287k/s, Estimated time remaining: 0:03:42)\u001b[0m\u001b[0m\r",
      "\u001b[K\u001b[0m\u001b[0m    box: Progress: 35% (Rate: 1213k/s, Estimated time remaining: 0:03:42)\u001b[0m\u001b[0m\r",
      "\u001b[K\u001b[0m\u001b[0m    box: Progress: 36% (Rate: 1358k/s, Estimated time remaining: 0:03:40)\u001b[0m\u001b[0m\r",
      "\u001b[K\u001b[0m\u001b[0m    box: Progress: 36% (Rate: 1286k/s, Estimated time remaining: 0:03:39)\u001b[0m\u001b[0m\r",
      "\u001b[K\u001b[0m\u001b[0m    box: Progress: 36% (Rate: 1286k/s, Estimated time remaining: 0:03:38)\u001b[0m\u001b[0m\r",
      "\u001b[K\u001b[0m\u001b[0m    box: Progress: 36% (Rate: 1286k/s, Estimated time remaining: 0:03:37)\u001b[0m\u001b[0m\r",
      "\u001b[K\u001b[0m\u001b[0m    box: Progress: 37% (Rate: 1359k/s, Estimated time remaining: 0:03:36)\u001b[0m\u001b[0m\r",
      "\u001b[K\u001b[0m\u001b[0m    box: Progress: 37% (Rate: 1293k/s, Estimated time remaining: 0:03:35)\u001b[0m\u001b[0m\r",
      "\u001b[K\u001b[0m\u001b[0m    box: Progress: 37% (Rate: 1293k/s, Estimated time remaining: 0:03:34)\u001b[0m\u001b[0m\r",
      "\u001b[K\u001b[0m\u001b[0m    box: Progress: 38% (Rate: 1293k/s, Estimated time remaining: 0:03:33)\u001b[0m\u001b[0m\r",
      "\u001b[K\u001b[0m\u001b[0m    box: Progress: 38% (Rate: 1215k/s, Estimated time remaining: 0:03:32)\u001b[0m\u001b[0m\r",
      "\u001b[K\u001b[0m\u001b[0m    box: Progress: 38% (Rate: 1060k/s, Estimated time remaining: 0:03:33)\u001b[0m\u001b[0m\r",
      "\u001b[K\u001b[0m\u001b[0m    box: Progress: 38% (Rate: 1010k/s, Estimated time remaining: 0:03:32)\u001b[0m\u001b[0m\r",
      "\u001b[K\u001b[0m\u001b[0m    box: Progress: 38% (Rate: 946k/s, Estimated time remaining: 0:03:32)\u001b[0m\u001b[0m\r",
      "\u001b[K\u001b[0m\u001b[0m    box: Progress: 39% (Rate: 888k/s, Estimated time remaining: 0:03:31)\u001b[0m\u001b[0m\r",
      "\u001b[K\u001b[0m\u001b[0m    box: Progress: 39% (Rate: 911k/s, Estimated time remaining: 0:03:31)\u001b[0m\u001b[0m\r",
      "\u001b[K\u001b[0m\u001b[0m    box: Progress: 39% (Rate: 1015k/s, Estimated time remaining: 0:03:30)\u001b[0m\u001b[0m\r",
      "\u001b[K\u001b[0m\u001b[0m    box: Progress: 39% (Rate: 1011k/s, Estimated time remaining: 0:03:30)\u001b[0m\u001b[0m\r",
      "\u001b[K\u001b[0m\u001b[0m    box: Progress: 40% (Rate: 1022k/s, Estimated time remaining: 0:03:29)\u001b[0m\u001b[0m\r",
      "\u001b[K\u001b[0m\u001b[0m    box: Progress: 40% (Rate: 1050k/s, Estimated time remaining: 0:03:28)\u001b[0m\u001b[0m\r",
      "\u001b[K\u001b[0m\u001b[0m    box: Progress: 40% (Rate: 1091k/s, Estimated time remaining: 0:03:27)\u001b[0m\u001b[0m\r",
      "\u001b[K\u001b[0m\u001b[0m    box: Progress: 40% (Rate: 1139k/s, Estimated time remaining: 0:03:26)\u001b[0m\u001b[0m\r",
      "\u001b[K\u001b[0m\u001b[0m    box: Progress: 41% (Rate: 1192k/s, Estimated time remaining: 0:03:25)\u001b[0m\u001b[0m\r",
      "\u001b[K\u001b[0m\u001b[0m    box: Progress: 41% (Rate: 1243k/s, Estimated time remaining: 0:03:24)\u001b[0m\u001b[0m\r",
      "\u001b[K\u001b[0m\u001b[0m    box: Progress: 41% (Rate: 1272k/s, Estimated time remaining: 0:03:23)\u001b[0m\u001b[0m\r",
      "\u001b[K\u001b[0m\u001b[0m    box: Progress: 42% (Rate: 1284k/s, Estimated time remaining: 0:03:22)\u001b[0m\u001b[0m\r",
      "\u001b[K\u001b[0m\u001b[0m    box: Progress: 42% (Rate: 1215k/s, Estimated time remaining: 0:03:22)\u001b[0m\u001b[0m\r",
      "\u001b[K\u001b[0m\u001b[0m    box: Progress: 42% (Rate: 1282k/s, Estimated time remaining: 0:03:20)\u001b[0m\u001b[0m\r",
      "\u001b[K\u001b[0m\u001b[0m    box: Progress: 43% (Rate: 1284k/s, Estimated time remaining: 0:03:19)\u001b[0m\u001b[0m\r",
      "\u001b[K\u001b[0m\u001b[0m    box: Progress: 43% (Rate: 1286k/s, Estimated time remaining: 0:03:18)\u001b[0m\u001b[0m\r",
      "\u001b[K\u001b[0m\u001b[0m    box: Progress: 43% (Rate: 1287k/s, Estimated time remaining: 0:03:17)\u001b[0m\u001b[0m\r",
      "\u001b[K\u001b[0m\u001b[0m    box: Progress: 43% (Rate: 1362k/s, Estimated time remaining: 0:03:16)\u001b[0m\u001b[0m\r",
      "\u001b[K\u001b[0m\u001b[0m    box: Progress: 44% (Rate: 1292k/s, Estimated time remaining: 0:03:14)\u001b[0m\u001b[0m\r",
      "\u001b[K\u001b[0m\u001b[0m    box: Progress: 44% (Rate: 1293k/s, Estimated time remaining: 0:03:13)\u001b[0m\u001b[0m\r",
      "\u001b[K\u001b[0m\u001b[0m    box: Progress: 44% (Rate: 1293k/s, Estimated time remaining: 0:03:12)\u001b[0m\u001b[0m\r",
      "\u001b[K\u001b[0m\u001b[0m    box: Progress: 45% (Rate: 1291k/s, Estimated time remaining: 0:03:11)\u001b[0m\u001b[0m\r",
      "\u001b[K\u001b[0m\u001b[0m    box: Progress: 45% (Rate: 1220k/s, Estimated time remaining: 0:03:10)\u001b[0m\u001b[0m\r",
      "\u001b[K\u001b[0m\u001b[0m    box: Progress: 45% (Rate: 1284k/s, Estimated time remaining: 0:03:09)\u001b[0m\u001b[0m\r",
      "\u001b[K\u001b[0m\u001b[0m    box: Progress: 46% (Rate: 1284k/s, Estimated time remaining: 0:03:08)\u001b[0m\u001b[0m\r",
      "\u001b[K\u001b[0m\u001b[0m    box: Progress: 46% (Rate: 1284k/s, Estimated time remaining: 0:03:07)\u001b[0m\u001b[0m\r",
      "\u001b[K\u001b[0m\u001b[0m    box: Progress: 46% (Rate: 1286k/s, Estimated time remaining: 0:03:06)\u001b[0m\u001b[0m\r",
      "\u001b[K\u001b[0m\u001b[0m    box: Progress: 46% (Rate: 1358k/s, Estimated time remaining: 0:03:05)\u001b[0m\u001b[0m\r",
      "\u001b[K\u001b[0m\u001b[0m    box: Progress: 47% (Rate: 1287k/s, Estimated time remaining: 0:03:04)\u001b[0m\u001b[0m\r",
      "\u001b[K\u001b[0m\u001b[0m    box: Progress: 47% (Rate: 1287k/s, Estimated time remaining: 0:03:03)\u001b[0m\u001b[0m\r",
      "\u001b[K\u001b[0m\u001b[0m    box: Progress: 47% (Rate: 1287k/s, Estimated time remaining: 0:03:02)\u001b[0m\u001b[0m\r",
      "\u001b[K\u001b[0m\u001b[0m    box: Progress: 48% (Rate: 1287k/s, Estimated time remaining: 0:03:01)\u001b[0m\u001b[0m\r",
      "\u001b[K\u001b[0m\u001b[0m    box: Progress: 48% (Rate: 1293k/s, Estimated time remaining: 0:02:59)\u001b[0m\u001b[0m\r",
      "\u001b[K\u001b[0m\u001b[0m    box: Progress: 48% (Rate: 1292k/s, Estimated time remaining: 0:02:58)\u001b[0m\u001b[0m\r",
      "\u001b[K\u001b[0m\u001b[0m    box: Progress: 49% (Rate: 1292k/s, Estimated time remaining: 0:02:57)\u001b[0m\u001b[0m\r",
      "\u001b[K\u001b[0m\u001b[0m    box: Progress: 49% (Rate: 1292k/s, Estimated time remaining: 0:02:56)\u001b[0m\u001b[0m\r",
      "\u001b[K\u001b[0m\u001b[0m    box: Progress: 49% (Rate: 1292k/s, Estimated time remaining: 0:02:55)\u001b[0m\u001b[0m\r",
      "\u001b[K\u001b[0m\u001b[0m    box: Progress: 49% (Rate: 1285k/s, Estimated time remaining: 0:02:54)\u001b[0m\u001b[0m\r",
      "\u001b[K\u001b[0m\u001b[0m    box: Progress: 50% (Rate: 1284k/s, Estimated time remaining: 0:02:53)\u001b[0m\u001b[0m\r",
      "\u001b[K\u001b[0m\u001b[0m    box: Progress: 50% (Rate: 1284k/s, Estimated time remaining: 0:02:52)\u001b[0m\u001b[0m\r",
      "\u001b[K\u001b[0m\u001b[0m    box: Progress: 50% (Rate: 1284k/s, Estimated time remaining: 0:02:51)\u001b[0m\u001b[0m\r",
      "\u001b[K\u001b[0m\u001b[0m    box: Progress: 51% (Rate: 1284k/s, Estimated time remaining: 0:02:50)\u001b[0m\u001b[0m\r",
      "\u001b[K\u001b[0m\u001b[0m    box: Progress: 51% (Rate: 1286k/s, Estimated time remaining: 0:02:49)\u001b[0m\u001b[0m\r",
      "\u001b[K\u001b[0m\u001b[0m    box: Progress: 51% (Rate: 1287k/s, Estimated time remaining: 0:02:48)\u001b[0m\u001b[0m\r",
      "\u001b[K\u001b[0m\u001b[0m    box: Progress: 51% (Rate: 1287k/s, Estimated time remaining: 0:02:47)\u001b[0m\u001b[0m\r",
      "\u001b[K\u001b[0m\u001b[0m    box: Progress: 52% (Rate: 1287k/s, Estimated time remaining: 0:02:46)\u001b[0m\u001b[0m\r",
      "\u001b[K\u001b[0m\u001b[0m    box: Progress: 52% (Rate: 1287k/s, Estimated time remaining: 0:02:45)\u001b[0m\u001b[0m\r",
      "\u001b[K\u001b[0m\u001b[0m    box: Progress: 52% (Rate: 1293k/s, Estimated time remaining: 0:02:44)\u001b[0m\u001b[0m\r",
      "\u001b[K\u001b[0m\u001b[0m    box: Progress: 53% (Rate: 1291k/s, Estimated time remaining: 0:02:42)\u001b[0m\u001b[0m\r",
      "\u001b[K\u001b[0m\u001b[0m    box: Progress: 53% (Rate: 1291k/s, Estimated time remaining: 0:02:41)\u001b[0m\u001b[0m\r",
      "\u001b[K\u001b[0m\u001b[0m    box: Progress: 53% (Rate: 1291k/s, Estimated time remaining: 0:02:40)\u001b[0m\u001b[0m\r",
      "\u001b[K\u001b[0m\u001b[0m    box: Progress: 54% (Rate: 1291k/s, Estimated time remaining: 0:02:39)\u001b[0m\u001b[0m\r",
      "\u001b[K\u001b[0m\u001b[0m    box: Progress: 54% (Rate: 1238k/s, Estimated time remaining: 0:02:39)\u001b[0m\u001b[0m\r",
      "\u001b[K\u001b[0m\u001b[0m    box: Progress: 54% (Rate: 1286k/s, Estimated time remaining: 0:02:37)\u001b[0m\u001b[0m\r",
      "\u001b[K\u001b[0m\u001b[0m    box: Progress: 54% (Rate: 1286k/s, Estimated time remaining: 0:02:36)\u001b[0m\u001b[0m\r",
      "\u001b[K\u001b[0m\u001b[0m    box: Progress: 55% (Rate: 1286k/s, Estimated time remaining: 0:02:35)\u001b[0m\u001b[0m\r",
      "\u001b[K\u001b[0m\u001b[0m    box: Progress: 55% (Rate: 1285k/s, Estimated time remaining: 0:02:34)\u001b[0m\u001b[0m\r",
      "\u001b[K\u001b[0m\u001b[0m    box: Progress: 55% (Rate: 1334k/s, Estimated time remaining: 0:02:33)\u001b[0m\u001b[0m\r",
      "\u001b[K\u001b[0m\u001b[0m    box: Progress: 56% (Rate: 1287k/s, Estimated time remaining: 0:02:32)\u001b[0m\u001b[0m\r",
      "\u001b[K\u001b[0m\u001b[0m    box: Progress: 56% (Rate: 1287k/s, Estimated time remaining: 0:02:31)\u001b[0m\u001b[0m\r",
      "\u001b[K\u001b[0m\u001b[0m    box: Progress: 56% (Rate: 1288k/s, Estimated time remaining: 0:02:30)\u001b[0m\u001b[0m\r",
      "\u001b[K\u001b[0m\u001b[0m    box: Progress: 57% (Rate: 1289k/s, Estimated time remaining: 0:02:29)\u001b[0m\u001b[0m\r",
      "\u001b[K\u001b[0m\u001b[0m    box: Progress: 57% (Rate: 1293k/s, Estimated time remaining: 0:02:28)\u001b[0m\u001b[0m\r",
      "\u001b[K\u001b[0m\u001b[0m    box: Progress: 57% (Rate: 1293k/s, Estimated time remaining: 0:02:27)\u001b[0m\u001b[0m\r",
      "\u001b[K\u001b[0m\u001b[0m    box: Progress: 57% (Rate: 1293k/s, Estimated time remaining: 0:02:26)\u001b[0m\u001b[0m\r",
      "\u001b[K\u001b[0m\u001b[0m    box: Progress: 58% (Rate: 1293k/s, Estimated time remaining: 0:02:25)\u001b[0m\u001b[0m\r",
      "\u001b[K\u001b[0m\u001b[0m    box: Progress: 58% (Rate: 1219k/s, Estimated time remaining: 0:02:24)\u001b[0m\u001b[0m\r",
      "\u001b[K\u001b[0m\u001b[0m    box: Progress: 58% (Rate: 1285k/s, Estimated time remaining: 0:02:23)\u001b[0m\u001b[0m\r",
      "\u001b[K\u001b[0m\u001b[0m    box: Progress: 59% (Rate: 1285k/s, Estimated time remaining: 0:02:21)\u001b[0m\u001b[0m\r",
      "\u001b[K\u001b[0m\u001b[0m    box: Progress: 59% (Rate: 1285k/s, Estimated time remaining: 0:02:20)\u001b[0m\u001b[0m\r",
      "\u001b[K\u001b[0m\u001b[0m    box: Progress: 59% (Rate: 1285k/s, Estimated time remaining: 0:02:19)\u001b[0m\u001b[0m\r",
      "\u001b[K\u001b[0m\u001b[0m    box: Progress: 60% (Rate: 1355k/s, Estimated time remaining: 0:02:18)\u001b[0m\u001b[0m\r",
      "\u001b[K\u001b[0m\u001b[0m    box: Progress: 60% (Rate: 1288k/s, Estimated time remaining: 0:02:17)\u001b[0m\u001b[0m\r",
      "\u001b[K\u001b[0m\u001b[0m    box: Progress: 60% (Rate: 1288k/s, Estimated time remaining: 0:02:16)\u001b[0m\u001b[0m\r",
      "\u001b[K\u001b[0m\u001b[0m    box: Progress: 60% (Rate: 1288k/s, Estimated time remaining: 0:02:15)\u001b[0m\u001b[0m\r",
      "\u001b[K\u001b[0m\u001b[0m    box: Progress: 61% (Rate: 1288k/s, Estimated time remaining: 0:02:14)\u001b[0m\u001b[0m\r",
      "\u001b[K\u001b[0m\u001b[0m    box: Progress: 61% (Rate: 1293k/s, Estimated time remaining: 0:02:13)\u001b[0m\u001b[0m\r",
      "\u001b[K\u001b[0m\u001b[0m    box: Progress: 61% (Rate: 1292k/s, Estimated time remaining: 0:02:12)\u001b[0m\u001b[0m\r",
      "\u001b[K\u001b[0m\u001b[0m    box: Progress: 62% (Rate: 1290k/s, Estimated time remaining: 0:02:11)\u001b[0m\u001b[0m\r",
      "\u001b[K\u001b[0m\u001b[0m    box: Progress: 62% (Rate: 1290k/s, Estimated time remaining: 0:02:10)\u001b[0m\u001b[0m\r",
      "\u001b[K\u001b[0m\u001b[0m    box: Progress: 62% (Rate: 1290k/s, Estimated time remaining: 0:02:09)\u001b[0m\u001b[0m\r",
      "\u001b[K\u001b[0m\u001b[0m    box: Progress: 62% (Rate: 1286k/s, Estimated time remaining: 0:02:08)\u001b[0m\u001b[0m\r",
      "\u001b[K\u001b[0m\u001b[0m    box: Progress: 63% (Rate: 1283k/s, Estimated time remaining: 0:02:07)\u001b[0m\u001b[0m\r",
      "\u001b[K\u001b[0m\u001b[0m    box: Progress: 63% (Rate: 1286k/s, Estimated time remaining: 0:02:06)\u001b[0m\u001b[0m\r",
      "\u001b[K\u001b[0m\u001b[0m    box: Progress: 63% (Rate: 1286k/s, Estimated time remaining: 0:02:05)\u001b[0m\u001b[0m\r",
      "\u001b[K\u001b[0m\u001b[0m    box: Progress: 64% (Rate: 1282k/s, Estimated time remaining: 0:02:04)\u001b[0m\u001b[0m\r",
      "\u001b[K\u001b[0m\u001b[0m    box: Progress: 64% (Rate: 1286k/s, Estimated time remaining: 0:02:03)\u001b[0m\u001b[0m\r",
      "\u001b[K\u001b[0m\u001b[0m    box: Progress: 64% (Rate: 1289k/s, Estimated time remaining: 0:02:02)\u001b[0m\u001b[0m\r",
      "\u001b[K\u001b[0m\u001b[0m    box: Progress: 65% (Rate: 1288k/s, Estimated time remaining: 0:02:01)\u001b[0m\u001b[0m\r",
      "\u001b[K\u001b[0m\u001b[0m    box: Progress: 65% (Rate: 1288k/s, Estimated time remaining: 0:02:00)\u001b[0m\u001b[0m\r",
      "\u001b[K\u001b[0m\u001b[0m    box: Progress: 65% (Rate: 1292k/s, Estimated time remaining: 0:01:59)\u001b[0m\u001b[0m\r",
      "\u001b[K\u001b[0m\u001b[0m    box: Progress: 65% (Rate: 1292k/s, Estimated time remaining: 0:01:58)\u001b[0m\u001b[0m\r",
      "\u001b[K\u001b[0m\u001b[0m    box: Progress: 66% (Rate: 1292k/s, Estimated time remaining: 0:01:57)\u001b[0m\u001b[0m\r",
      "\u001b[K\u001b[0m\u001b[0m    box: Progress: 66% (Rate: 1293k/s, Estimated time remaining: 0:01:55)\u001b[0m\u001b[0m\r",
      "\u001b[K\u001b[0m\u001b[0m    box: Progress: 66% (Rate: 1293k/s, Estimated time remaining: 0:01:54)\u001b[0m\u001b[0m\r",
      "\u001b[K\u001b[0m\u001b[0m    box: Progress: 67% (Rate: 1289k/s, Estimated time remaining: 0:01:53)\u001b[0m\u001b[0m\r",
      "\u001b[K\u001b[0m\u001b[0m    box: Progress: 67% (Rate: 1288k/s, Estimated time remaining: 0:01:52)\u001b[0m\u001b[0m\r",
      "\u001b[K\u001b[0m\u001b[0m    box: Progress: 67% (Rate: 1287k/s, Estimated time remaining: 0:01:51)\u001b[0m\u001b[0m\r",
      "\u001b[K\u001b[0m\u001b[0m    box: Progress: 68% (Rate: 1286k/s, Estimated time remaining: 0:01:50)\u001b[0m\u001b[0m\r",
      "\u001b[K\u001b[0m\u001b[0m    box: Progress: 68% (Rate: 1280k/s, Estimated time remaining: 0:01:49)\u001b[0m\u001b[0m\r",
      "\u001b[K\u001b[0m\u001b[0m    box: Progress: 68% (Rate: 1283k/s, Estimated time remaining: 0:01:48)\u001b[0m\u001b[0m\r",
      "\u001b[K\u001b[0m\u001b[0m    box: Progress: 68% (Rate: 1284k/s, Estimated time remaining: 0:01:47)\u001b[0m\u001b[0m\r",
      "\u001b[K\u001b[0m\u001b[0m    box: Progress: 69% (Rate: 1285k/s, Estimated time remaining: 0:01:46)\u001b[0m\u001b[0m\r",
      "\u001b[K\u001b[0m\u001b[0m    box: Progress: 69% (Rate: 1286k/s, Estimated time remaining: 0:01:45)\u001b[0m\u001b[0m\r",
      "\u001b[K\u001b[0m\u001b[0m    box: Progress: 69% (Rate: 1292k/s, Estimated time remaining: 0:01:44)\u001b[0m\u001b[0m\r",
      "\u001b[K\u001b[0m\u001b[0m    box: Progress: 70% (Rate: 1293k/s, Estimated time remaining: 0:01:43)\u001b[0m\u001b[0m\r",
      "\u001b[K\u001b[0m\u001b[0m    box: Progress: 70% (Rate: 1291k/s, Estimated time remaining: 0:01:42)\u001b[0m\u001b[0m\r",
      "\u001b[K\u001b[0m\u001b[0m    box: Progress: 70% (Rate: 1291k/s, Estimated time remaining: 0:01:41)\u001b[0m\u001b[0m\r",
      "\u001b[K\u001b[0m\u001b[0m    box: Progress: 71% (Rate: 1292k/s, Estimated time remaining: 0:01:40)\u001b[0m\u001b[0m\r",
      "\u001b[K\u001b[0m\u001b[0m    box: Progress: 71% (Rate: 1225k/s, Estimated time remaining: 0:01:39)\u001b[0m\u001b[0m\r",
      "\u001b[K\u001b[0m\u001b[0m    box: Progress: 71% (Rate: 1286k/s, Estimated time remaining: 0:01:38)\u001b[0m\u001b[0m\r",
      "\u001b[K\u001b[0m\u001b[0m    box: Progress: 71% (Rate: 1287k/s, Estimated time remaining: 0:01:37)\u001b[0m\u001b[0m\r",
      "\u001b[K\u001b[0m\u001b[0m    box: Progress: 72% (Rate: 1288k/s, Estimated time remaining: 0:01:36)\u001b[0m\u001b[0m\r",
      "\u001b[K\u001b[0m\u001b[0m    box: Progress: 72% (Rate: 1213k/s, Estimated time remaining: 0:01:35)\u001b[0m\u001b[0m\r",
      "\u001b[K\u001b[0m\u001b[0m    box: Progress: 72% (Rate: 1174k/s, Estimated time remaining: 0:01:34)\u001b[0m\u001b[0m\r",
      "\u001b[K\u001b[0m\u001b[0m    box: Progress: 73% (Rate: 1270k/s, Estimated time remaining: 0:01:33)\u001b[0m\u001b[0m\r",
      "\u001b[K\u001b[0m\u001b[0m    box: Progress: 73% (Rate: 991k/s, Estimated time remaining: 0:01:33)\u001b[0m\u001b[0m\r",
      "\u001b[K\u001b[0m\u001b[0m    box: Progress: 73% (Rate: 955k/s, Estimated time remaining: 0:01:32)\u001b[0m\u001b[0m\r",
      "\u001b[K\u001b[0m\u001b[0m    box: Progress: 73% (Rate: 876k/s, Estimated time remaining: 0:01:31)\u001b[0m\u001b[0m\r",
      "\u001b[K\u001b[0m\u001b[0m    box: Progress: 73% (Rate: 757k/s, Estimated time remaining: 0:01:31)\u001b[0m\u001b[0m\r",
      "\u001b[K\u001b[0m\u001b[0m    box: Progress: 73% (Rate: 575k/s, Estimated time remaining: 0:01:32)\u001b[0m\u001b[0m\r",
      "\u001b[K\u001b[0m\u001b[0m    box: Progress: 74% (Rate: 829k/s, Estimated time remaining: 0:01:31)\u001b[0m\u001b[0m\r",
      "\u001b[K\u001b[0m\u001b[0m    box: Progress: 74% (Rate: 881k/s, Estimated time remaining: 0:01:29)\u001b[0m\u001b[0m\r",
      "\u001b[K\u001b[0m\u001b[0m    box: Progress: 74% (Rate: 1043k/s, Estimated time remaining: 0:01:28)\u001b[0m\u001b[0m\r",
      "\u001b[K\u001b[0m\u001b[0m    box: Progress: 74% (Rate: 1237k/s, Estimated time remaining: 0:01:27)\u001b[0m\u001b[0m\r",
      "\u001b[K\u001b[0m\u001b[0m    box: Progress: 75% (Rate: 1289k/s, Estimated time remaining: 0:01:26)\u001b[0m\u001b[0m\r",
      "\u001b[K\u001b[0m\u001b[0m    box: Progress: 75% (Rate: 1290k/s, Estimated time remaining: 0:01:25)\u001b[0m\u001b[0m\r",
      "\u001b[K\u001b[0m\u001b[0m    box: Progress: 75% (Rate: 1290k/s, Estimated time remaining: 0:01:24)\u001b[0m\u001b[0m\r",
      "\u001b[K\u001b[0m\u001b[0m    box: Progress: 76% (Rate: 1286k/s, Estimated time remaining: 0:01:23)\u001b[0m\u001b[0m\r",
      "\u001b[K\u001b[0m\u001b[0m    box: Progress: 76% (Rate: 1286k/s, Estimated time remaining: 0:01:22)\u001b[0m\u001b[0m\r",
      "\u001b[K\u001b[0m\u001b[0m    box: Progress: 76% (Rate: 1286k/s, Estimated time remaining: 0:01:21)\u001b[0m\u001b[0m\r",
      "\u001b[K\u001b[0m\u001b[0m    box: Progress: 77% (Rate: 1286k/s, Estimated time remaining: 0:01:20)\u001b[0m\u001b[0m\r",
      "\u001b[K\u001b[0m\u001b[0m    box: Progress: 77% (Rate: 1280k/s, Estimated time remaining: 0:01:19)\u001b[0m\u001b[0m\r",
      "\u001b[K\u001b[0m\u001b[0m    box: Progress: 77% (Rate: 1288k/s, Estimated time remaining: 0:01:18)\u001b[0m\u001b[0m\r",
      "\u001b[K\u001b[0m\u001b[0m    box: Progress: 77% (Rate: 1288k/s, Estimated time remaining: 0:01:17)\u001b[0m\u001b[0m\r",
      "\u001b[K\u001b[0m\u001b[0m    box: Progress: 78% (Rate: 1287k/s, Estimated time remaining: 0:01:16)\u001b[0m\u001b[0m\r",
      "\u001b[K\u001b[0m\u001b[0m    box: Progress: 78% (Rate: 1288k/s, Estimated time remaining: 0:01:15)\u001b[0m\u001b[0m\r",
      "\u001b[K\u001b[0m\u001b[0m    box: Progress: 78% (Rate: 1292k/s, Estimated time remaining: 0:01:14)\u001b[0m\u001b[0m\r",
      "\u001b[K\u001b[0m\u001b[0m    box: Progress: 79% (Rate: 1291k/s, Estimated time remaining: 0:01:13)\u001b[0m\u001b[0m\r",
      "\u001b[K\u001b[0m\u001b[0m    box: Progress: 79% (Rate: 1283k/s, Estimated time remaining: 0:01:12)\u001b[0m\u001b[0m\r",
      "\u001b[K\u001b[0m\u001b[0m    box: Progress: 79% (Rate: 1280k/s, Estimated time remaining: 0:01:11)\u001b[0m\u001b[0m\r",
      "\u001b[K\u001b[0m\u001b[0m    box: Progress: 79% (Rate: 1253k/s, Estimated time remaining: 0:01:10)\u001b[0m\u001b[0m\r",
      "\u001b[K\u001b[0m\u001b[0m    box: Progress: 80% (Rate: 1226k/s, Estimated time remaining: 0:01:09)\u001b[0m\u001b[0m\r",
      "\u001b[K\u001b[0m\u001b[0m    box: Progress: 80% (Rate: 1198k/s, Estimated time remaining: 0:01:08)\u001b[0m\u001b[0m\r",
      "\u001b[K\u001b[0m\u001b[0m    box: Progress: 80% (Rate: 1114k/s, Estimated time remaining: 0:01:07)\u001b[0m\u001b[0m\r",
      "\u001b[K\u001b[0m\u001b[0m    box: Progress: 81% (Rate: 1149k/s, Estimated time remaining: 0:01:06)\u001b[0m\u001b[0m\r",
      "\u001b[K\u001b[0m\u001b[0m    box: Progress: 81% (Rate: 1139k/s, Estimated time remaining: 0:01:05)\u001b[0m\u001b[0m\r",
      "\u001b[K\u001b[0m\u001b[0m    box: Progress: 81% (Rate: 1130k/s, Estimated time remaining: 0:01:05)\u001b[0m\u001b[0m\r",
      "\u001b[K\u001b[0m\u001b[0m    box: Progress: 81% (Rate: 1111k/s, Estimated time remaining: 0:01:04)\u001b[0m\u001b[0m\r",
      "\u001b[K\u001b[0m\u001b[0m    box: Progress: 81% (Rate: 1085k/s, Estimated time remaining: 0:01:03)\u001b[0m\u001b[0m\r",
      "\u001b[K\u001b[0m\u001b[0m    box: Progress: 82% (Rate: 1036k/s, Estimated time remaining: 0:01:02)\u001b[0m\u001b[0m\r",
      "\u001b[K\u001b[0m\u001b[0m    box: Progress: 82% (Rate: 1001k/s, Estimated time remaining: 0:01:02)\u001b[0m\u001b[0m\r",
      "\u001b[K\u001b[0m\u001b[0m    box: Progress: 82% (Rate: 971k/s, Estimated time remaining: 0:01:01)\u001b[0m\u001b[0m\r",
      "\u001b[K\u001b[0m\u001b[0m    box: Progress: 82% (Rate: 940k/s, Estimated time remaining: 0:01:00)\u001b[0m\u001b[0m\r",
      "\u001b[K\u001b[0m\u001b[0m    box: Progress: 83% (Rate: 976k/s, Estimated time remaining: 0:01:00)\u001b[0m\u001b[0m\r",
      "\u001b[K\u001b[0m\u001b[0m    box: Progress: 83% (Rate: 916k/s, Estimated time remaining: 0:00:59)\u001b[0m\u001b[0m\r",
      "\u001b[K\u001b[0m\u001b[0m    box: Progress: 83% (Rate: 902k/s, Estimated time remaining: 0:00:58)\u001b[0m\u001b[0m\r",
      "\u001b[K\u001b[0m\u001b[0m    box: Progress: 83% (Rate: 883k/s, Estimated time remaining: 0:00:58)\u001b[0m\u001b[0m\r",
      "\u001b[K\u001b[0m\u001b[0m    box: Progress: 83% (Rate: 856k/s, Estimated time remaining: 0:00:57)\u001b[0m\u001b[0m\r",
      "\u001b[K\u001b[0m\u001b[0m    box: Progress: 84% (Rate: 833k/s, Estimated time remaining: 0:00:57)\u001b[0m\u001b[0m\r",
      "\u001b[K\u001b[0m\u001b[0m    box: Progress: 84% (Rate: 821k/s, Estimated time remaining: 0:00:56)\u001b[0m\u001b[0m\r",
      "\u001b[K\u001b[0m\u001b[0m    box: Progress: 84% (Rate: 803k/s, Estimated time remaining: 0:00:55)\u001b[0m\u001b[0m\r",
      "\u001b[K\u001b[0m\u001b[0m    box: Progress: 84% (Rate: 806k/s, Estimated time remaining: 0:00:55)\u001b[0m\u001b[0m\r",
      "\u001b[K\u001b[0m\u001b[0m    box: Progress: 84% (Rate: 854k/s, Estimated time remaining: 0:00:54)\u001b[0m\u001b[0m\r",
      "\u001b[K\u001b[0m\u001b[0m    box: Progress: 85% (Rate: 938k/s, Estimated time remaining: 0:00:53)\u001b[0m\u001b[0m\r",
      "\u001b[K\u001b[0m\u001b[0m    box: Progress: 85% (Rate: 1011k/s, Estimated time remaining: 0:00:52)\u001b[0m\u001b[0m\r",
      "\u001b[K\u001b[0m\u001b[0m    box: Progress: 85% (Rate: 1100k/s, Estimated time remaining: 0:00:51)\u001b[0m\u001b[0m\r",
      "\u001b[K\u001b[0m\u001b[0m    box: Progress: 85% (Rate: 1181k/s, Estimated time remaining: 0:00:50)\u001b[0m\u001b[0m\r",
      "\u001b[K\u001b[0m\u001b[0m    box: Progress: 86% (Rate: 1238k/s, Estimated time remaining: 0:00:49)\u001b[0m\u001b[0m\r",
      "\u001b[K\u001b[0m\u001b[0m    box: Progress: 86% (Rate: 1258k/s, Estimated time remaining: 0:00:48)\u001b[0m\u001b[0m\r",
      "\u001b[K\u001b[0m\u001b[0m    box: Progress: 86% (Rate: 1202k/s, Estimated time remaining: 0:00:47)\u001b[0m\u001b[0m\r",
      "\u001b[K\u001b[0m\u001b[0m    box: Progress: 87% (Rate: 1286k/s, Estimated time remaining: 0:00:46)\u001b[0m\u001b[0m\r",
      "\u001b[K\u001b[0m\u001b[0m    box: Progress: 87% (Rate: 1288k/s, Estimated time remaining: 0:00:45)\u001b[0m\u001b[0m\r",
      "\u001b[K\u001b[0m\u001b[0m    box: Progress: 87% (Rate: 1289k/s, Estimated time remaining: 0:00:44)\u001b[0m\u001b[0m\r",
      "\u001b[K\u001b[0m\u001b[0m    box: Progress: 88% (Rate: 1277k/s, Estimated time remaining: 0:00:43)\u001b[0m\u001b[0m\r",
      "\u001b[K\u001b[0m\u001b[0m    box: Progress: 88% (Rate: 1353k/s, Estimated time remaining: 0:00:42)\u001b[0m\u001b[0m\r",
      "\u001b[K\u001b[0m\u001b[0m    box: Progress: 88% (Rate: 1281k/s, Estimated time remaining: 0:00:40)\u001b[0m\u001b[0m\r",
      "\u001b[K\u001b[0m\u001b[0m    box: Progress: 88% (Rate: 1281k/s, Estimated time remaining: 0:00:39)\u001b[0m\u001b[0m\r",
      "\u001b[K\u001b[0m\u001b[0m    box: Progress: 89% (Rate: 1281k/s, Estimated time remaining: 0:00:38)\u001b[0m\u001b[0m\r",
      "\u001b[K\u001b[0m\u001b[0m    box: Progress: 89% (Rate: 1293k/s, Estimated time remaining: 0:00:37)\u001b[0m\u001b[0m\r",
      "\u001b[K\u001b[0m\u001b[0m    box: Progress: 89% (Rate: 1292k/s, Estimated time remaining: 0:00:36)\u001b[0m\u001b[0m\r",
      "\u001b[K\u001b[0m\u001b[0m    box: Progress: 90% (Rate: 1293k/s, Estimated time remaining: 0:00:35)\u001b[0m\u001b[0m\r",
      "\u001b[K\u001b[0m\u001b[0m    box: Progress: 90% (Rate: 1293k/s, Estimated time remaining: 0:00:34)\u001b[0m\u001b[0m\r",
      "\u001b[K\u001b[0m\u001b[0m    box: Progress: 90% (Rate: 1293k/s, Estimated time remaining: 0:00:33)\u001b[0m\u001b[0m\r",
      "\u001b[K\u001b[0m\u001b[0m    box: Progress: 90% (Rate: 1217k/s, Estimated time remaining: 0:00:32)\u001b[0m\u001b[0m\r",
      "\u001b[K\u001b[0m\u001b[0m    box: Progress: 91% (Rate: 1286k/s, Estimated time remaining: 0:00:31)\u001b[0m\u001b[0m\r",
      "\u001b[K\u001b[0m\u001b[0m    box: Progress: 91% (Rate: 1286k/s, Estimated time remaining: 0:00:30)\u001b[0m\u001b[0m\r",
      "\u001b[K\u001b[0m\u001b[0m    box: Progress: 91% (Rate: 1286k/s, Estimated time remaining: 0:00:29)\u001b[0m\u001b[0m\r",
      "\u001b[K\u001b[0m\u001b[0m    box: Progress: 92% (Rate: 1286k/s, Estimated time remaining: 0:00:28)\u001b[0m\u001b[0m\r",
      "\u001b[K\u001b[0m\u001b[0m    box: Progress: 92% (Rate: 1354k/s, Estimated time remaining: 0:00:27)\u001b[0m\u001b[0m\r",
      "\u001b[K\u001b[0m\u001b[0m    box: Progress: 92% (Rate: 1284k/s, Estimated time remaining: 0:00:26)\u001b[0m\u001b[0m\r",
      "\u001b[K\u001b[0m\u001b[0m    box: Progress: 93% (Rate: 1282k/s, Estimated time remaining: 0:00:25)\u001b[0m\u001b[0m\r",
      "\u001b[K\u001b[0m\u001b[0m    box: Progress: 93% (Rate: 1282k/s, Estimated time remaining: 0:00:24)\u001b[0m\u001b[0m\r",
      "\u001b[K\u001b[0m\u001b[0m    box: Progress: 93% (Rate: 1282k/s, Estimated time remaining: 0:00:23)\u001b[0m\u001b[0m\r",
      "\u001b[K\u001b[0m\u001b[0m    box: Progress: 93% (Rate: 1290k/s, Estimated time remaining: 0:00:22)\u001b[0m\u001b[0m\r",
      "\u001b[K\u001b[0m\u001b[0m    box: Progress: 94% (Rate: 1290k/s, Estimated time remaining: 0:00:21)\u001b[0m\u001b[0m\r",
      "\u001b[K\u001b[0m\u001b[0m    box: Progress: 94% (Rate: 1293k/s, Estimated time remaining: 0:00:19)\u001b[0m\u001b[0m\r",
      "\u001b[K\u001b[0m\u001b[0m    box: Progress: 94% (Rate: 1293k/s, Estimated time remaining: 0:00:18)\u001b[0m\u001b[0m\r",
      "\u001b[K\u001b[0m\u001b[0m    box: Progress: 95% (Rate: 1292k/s, Estimated time remaining: 0:00:17)\u001b[0m\u001b[0m\r",
      "\u001b[K\u001b[0m\u001b[0m    box: Progress: 95% (Rate: 1286k/s, Estimated time remaining: 0:00:16)\u001b[0m\u001b[0m\r",
      "\u001b[K\u001b[0m\u001b[0m    box: Progress: 95% (Rate: 1283k/s, Estimated time remaining: 0:00:15)\u001b[0m\u001b[0m\r",
      "\u001b[K\u001b[0m\u001b[0m    box: Progress: 96% (Rate: 1284k/s, Estimated time remaining: 0:00:14)\u001b[0m\u001b[0m\r",
      "\u001b[K\u001b[0m\u001b[0m    box: Progress: 96% (Rate: 1284k/s, Estimated time remaining: 0:00:13)\u001b[0m\u001b[0m\r",
      "\u001b[K\u001b[0m\u001b[0m    box: Progress: 96% (Rate: 1284k/s, Estimated time remaining: 0:00:12)\u001b[0m\u001b[0m\r",
      "\u001b[K\u001b[0m\u001b[0m    box: Progress: 96% (Rate: 1284k/s, Estimated time remaining: 0:00:11)\u001b[0m\u001b[0m\r",
      "\u001b[K\u001b[0m\u001b[0m    box: Progress: 97% (Rate: 1287k/s, Estimated time remaining: 0:00:10)\u001b[0m\u001b[0m\r",
      "\u001b[K\u001b[0m\u001b[0m    box: Progress: 97% (Rate: 1286k/s, Estimated time remaining: 0:00:09)\u001b[0m\u001b[0m\r",
      "\u001b[K\u001b[0m\u001b[0m    box: Progress: 97% (Rate: 1286k/s, Estimated time remaining: 0:00:08)\u001b[0m\u001b[0m\r",
      "\u001b[K\u001b[0m\u001b[0m    box: Progress: 98% (Rate: 1286k/s, Estimated time remaining: 0:00:07)\u001b[0m\u001b[0m\r",
      "\u001b[K\u001b[0m\u001b[0m    box: Progress: 98% (Rate: 1291k/s, Estimated time remaining: 0:00:06)\u001b[0m\u001b[0m\r",
      "\u001b[K\u001b[0m\u001b[0m    box: Progress: 98% (Rate: 1291k/s, Estimated time remaining: 0:00:05)\u001b[0m\u001b[0m\r",
      "\u001b[K\u001b[0m\u001b[0m    box: Progress: 99% (Rate: 1292k/s, Estimated time remaining: 0:00:04)\u001b[0m\u001b[0m\r",
      "\u001b[K\u001b[0m\u001b[0m    box: Progress: 99% (Rate: 1292k/s, Estimated time remaining: 0:00:03)\u001b[0m\u001b[0m\r",
      "\u001b[K\u001b[0m\u001b[0m    box: Progress: 99% (Rate: 1292k/s, Estimated time remaining: 0:00:02)\u001b[0m\u001b[0m\r",
      "\u001b[K\u001b[0m\u001b[0m    box: Progress: 99% (Rate: 1240k/s, Estimated time remaining: 0:00:01)\u001b[0m\u001b[0m\r",
      "\u001b[K\u001b[0m\u001b[1;32m==> box: Successfully added box 'ubuntu/trusty64' (v20160708.1.2) for 'virtualbox'!\u001b[0m\r\n"
     ]
    }
   ],
   "source": [
    "vagrant box add ubuntu/trusty64"
   ]
  },
  {
   "cell_type": "markdown",
   "metadata": {},
   "source": [
    "## Lista de boxes"
   ]
  },
  {
   "cell_type": "code",
   "execution_count": 6,
   "metadata": {
    "collapsed": false
   },
   "outputs": [
    {
     "name": "stdout",
     "output_type": "stream",
     "text": [
      "\u001b[0mubuntu/trusty64 (virtualbox, 20160708.1.2)\u001b[0m\r\n"
     ]
    }
   ],
   "source": [
    "vagrant box list"
   ]
  },
  {
   "cell_type": "markdown",
   "metadata": {},
   "source": [
    "# Providers\n",
    "\n",
    "Los provedores son los que se encargan de crear, pausar, elminar los ambientes de desarollo.\n",
    "\n",
    "Vagrant viene con soporte para VMware, VirtualBox y Docker pero otros provedores se pueden integrar."
   ]
  },
  {
   "cell_type": "markdown",
   "metadata": {},
   "source": [
    "# Vagrantfile\n",
    "\n",
    "Es un archivo que indica la maquina requerida por el proyecto y como configurar y provisionar la maquina.\n",
    "\n",
    "La sintaxis usada es la misma que en ruby, el lenguaje de programación pero no es necesario tener\n",
    "conocimiento previo de este, ya que solo se trata de asignación de variables."
   ]
  },
  {
   "cell_type": "code",
   "execution_count": 10,
   "metadata": {
    "collapsed": false
   },
   "outputs": [
    {
     "name": "stdout",
     "output_type": "stream",
     "text": [
      "Vagrant.configure(2) do |config|\r\n",
      "  config.vm.box = \"ubuntu/trusty64\"\r\n",
      "end\r\n"
     ]
    }
   ],
   "source": [
    "cat Vagrantfile"
   ]
  },
  {
   "cell_type": "markdown",
   "metadata": {},
   "source": [
    "## Creación de ambiente\n",
    "\n",
    "Para crear un ambiente solo necesitas ejecutar el comando up de vagrant."
   ]
  },
  {
   "cell_type": "code",
   "execution_count": 11,
   "metadata": {
    "collapsed": false
   },
   "outputs": [
    {
     "name": "stdout",
     "output_type": "stream",
     "text": [
      "\u001b[0mBringing machine 'default' up with 'virtualbox' provider...\u001b[0m\r\n",
      "\u001b[1m==> default: Importing base box 'ubuntu/trusty64'...\u001b[0m\r\n",
      "\u001b[0m\r",
      "\u001b[K\u001b[0m\u001b[0mProgress: 60%\u001b[0m\u001b[0m\r",
      "\u001b[K\u001b[0m\u001b[0mProgress: 90%\u001b[0m\u001b[0m\r",
      "\u001b[K\u001b[0m\u001b[1m==> default: Matching MAC address for NAT networking...\u001b[0m\r\n",
      "\u001b[1m==> default: Checking if box 'ubuntu/trusty64' is up to date...\u001b[0m\r\n",
      "\u001b[1m==> default: Setting the name of the VM: hacker_school_default_1469015343896_77366\u001b[0m\r\n",
      "\u001b[1m==> default: Clearing any previously set forwarded ports...\u001b[0m\r\n",
      "\u001b[1m==> default: Clearing any previously set network interfaces...\u001b[0m\r\n",
      "\u001b[1m==> default: Preparing network interfaces based on configuration...\u001b[0m\r\n",
      "\u001b[0m    default: Adapter 1: nat\u001b[0m\r\n",
      "\u001b[1m==> default: Forwarding ports...\u001b[0m\r\n",
      "\u001b[0m    default: 22 (guest) => 2222 (host) (adapter 1)\u001b[0m\r\n",
      "\u001b[1m==> default: Booting VM...\u001b[0m\r\n",
      "\u001b[1m==> default: Waiting for machine to boot. This may take a few minutes...\u001b[0m\r\n",
      "\u001b[0m    default: SSH address: 127.0.0.1:2222\u001b[0m\r\n",
      "\u001b[0m    default: SSH username: vagrant\u001b[0m\r\n",
      "\u001b[0m    default: SSH auth method: private key\u001b[0m\r\n",
      "\u001b[0m    default: \r\n",
      "    default: Vagrant insecure key detected. Vagrant will automatically replace\r\n",
      "    default: this with a newly generated keypair for better security.\u001b[0m\r\n",
      "\u001b[0m    default: \r\n",
      "    default: Inserting generated public key within guest...\u001b[0m\r\n",
      "\u001b[0m    default: Removing insecure key from the guest if it's present...\u001b[0m\r\n",
      "\u001b[0m    default: Key inserted! Disconnecting and reconnecting using new SSH key...\u001b[0m\r\n",
      "\u001b[1m==> default: Machine booted and ready!\u001b[0m\r\n",
      "\u001b[1m==> default: Checking for guest additions in VM...\u001b[0m\r\n",
      "\u001b[1m==> default: Mounting shared folders...\u001b[0m\r\n",
      "\u001b[0m    default: /vagrant => /home/meliodas/.virtualenvs/hacker_school/hacker_school\u001b[0m\r\n"
     ]
    }
   ],
   "source": [
    "vagrant up"
   ]
  },
  {
   "cell_type": "markdown",
   "metadata": {},
   "source": [
    "## Interactuar con el ambiente\n",
    "\n",
    "Ejecuta en tu consola el comando ssh para establecer comunicación a travez del puerto 2222 del host usando una llave insegura, estos elementos se pueden personalizar en el Vagrantfile."
   ]
  },
  {
   "cell_type": "code",
   "execution_count": 12,
   "metadata": {
    "collapsed": false
   },
   "outputs": [
    {
     "name": "stdout",
     "output_type": "stream",
     "text": [
      "Linux vagrant-ubuntu-trusty-64 3.13.0-92-generic #139-Ubuntu SMP Tue Jun 28 20:42:26 UTC 2016 x86_64 x86_64 x86_64 GNU/Linux\r\n",
      "Connection to 127.0.0.1 closed.\r",
      "\r\n"
     ]
    }
   ],
   "source": [
    "vagrant ssh -c 'uname -a'"
   ]
  },
  {
   "cell_type": "markdown",
   "metadata": {},
   "source": [
    "Para una lista de cajas listas para usar pueder acceder a http://www.vagrantbox.es/, agrega el nombre y la url de la maquina con el comando `add` antes mencionado."
   ]
  },
  {
   "cell_type": "markdown",
   "metadata": {},
   "source": [
    "# Provisionado\n",
    "\n",
    "Se sirve de herramientas que permiten instalar y modificar los ambientes base y ajustarlos a nuestras necesidades.\n",
    "\n",
    "Vagrant trae soporte para varios sistemas como son Ansible, Pupet, Salt, Bash o varios sabores de Chef.\n",
    "De momento trabajaremos con ansible ya que es muy sencillo de aprender.\n",
    "\n",
    "## Ansible\n",
    "\n",
    "Ansible mantiene una estructura muy simple que puede extenderse a gusto, sirviendo desde un pequeño nodo hasta miles. La unidad base de declaraciones son los playbook, arcivos donde se declara la condiguración deseada para el sistema. LA sintaxis es muy simple y no es más que un archivo con YAML.\n",
    "\n",
    "Agregamos una sección donde especificamos el provisionador que queremos usar, ademas le indicamos que playbook va a usar para el provisionamiento del sistema."
   ]
  },
  {
   "cell_type": "code",
   "execution_count": 22,
   "metadata": {
    "collapsed": false
   },
   "outputs": [
    {
     "name": "stdout",
     "output_type": "stream",
     "text": [
      "Vagrant.configure(2) do |config|\r\n",
      "  config.vm.box = \"ubuntu/trusty64\"\r\n",
      "\r\n",
      "  config.vm.provision \"ansible\" do |ansible|\r\n",
      "    ansible.playbook = \"playbook.yml\"\r\n",
      "  end\r\n",
      "end\r\n"
     ]
    }
   ],
   "source": [
    "cat Vagrantfile"
   ]
  },
  {
   "cell_type": "code",
   "execution_count": 20,
   "metadata": {
    "collapsed": false
   },
   "outputs": [
    {
     "name": "stdout",
     "output_type": "stream",
     "text": [
      "\u001b[1m==> default: Running provisioner: ansible...\u001b[0m\r\n",
      "\u001b[0m    default: Running ansible-playbook...\u001b[0m\r\n",
      "\u001b[0m\r\n",
      "PLAY [all] *********************************************************************\r\n",
      "\u001b[0m\u001b[0m\r\n",
      "TASK [setup] *******************************************************************\r\n",
      "\u001b[0m\u001b[0m\u001b[0;32mok: [default]\u001b[0m\r\n",
      "\u001b[0m\u001b[0m\r\n",
      "TASK [Instalación de python] ***************************************************\r\n",
      "\u001b[0m\u001b[0m\u001b[0;32mok: [default]\u001b[0m\r\n",
      "\u001b[0m\u001b[0m\r\n",
      "PLAY RECAP *********************************************************************\r\n",
      "\u001b[0m\u001b[0m\u001b[0;32mdefault\u001b[0m                    : \u001b[0;32mok\u001b[0m\u001b[0;32m=\u001b[0m\u001b[0;32m2\u001b[0m    changed=0    unreachable=0    failed=0   \r\n",
      "\r\n",
      "\u001b[0m"
     ]
    }
   ],
   "source": [
    "vagrant provision"
   ]
  },
  {
   "cell_type": "code",
   "execution_count": 21,
   "metadata": {
    "collapsed": false
   },
   "outputs": [
    {
     "name": "stdout",
     "output_type": "stream",
     "text": [
      "---\r\n",
      "- hosts: all\r\n",
      "  tasks:\r\n",
      "      - name: Instalación de python\r\n",
      "        apt: pkg=python state=installed update_cache=true\r\n",
      "        become: True\r\n",
      "\r\n"
     ]
    }
   ],
   "source": [
    "cat playbook.yml"
   ]
  },
  {
   "cell_type": "markdown",
   "metadata": {},
   "source": [
    "## Practica\n",
    "\n",
    "1. Crea un nuevo Vagranfile\n",
    "2. Escoge y agrega el caja del sistema de tu agrado (Ubuntu, Fedora, Windows)\n",
    "3. Provisiona la maquina con python, mongo, git\n",
    "4. Inicia el servidor manualmente y que muestre un hola mundo usando `python -m SimpleHTTPServer 80` \n",
    "5. La aplicación debe mostrarse cuando en el navegador local use 127.0.0.1:8080\n",
    "6. Punto extra si agregas livereload o creas un servicio para tu servidor"
   ]
  },
  {
   "cell_type": "markdown",
   "metadata": {},
   "source": [
    "## Detener y eliminar una maquina"
   ]
  },
  {
   "cell_type": "code",
   "execution_count": null,
   "metadata": {
    "collapsed": true
   },
   "outputs": [],
   "source": [
    "vagrant halt"
   ]
  },
  {
   "cell_type": "code",
   "execution_count": null,
   "metadata": {
    "collapsed": true
   },
   "outputs": [],
   "source": [
    "vagrant destroy"
   ]
  },
  {
   "cell_type": "markdown",
   "metadata": {},
   "source": [
    "Recursos:\n",
    "\n",
    "- [Charla de Ansible](http://zoek1.github.io/ninja-code-party-2014-ansible-101)\n",
    "- [Sitio de Vagrant](https://www.vagrantup.com/docs/plugins/)\n",
    "- [Listado de boxes](http://www.vagrantbox.es/)\n"
   ]
  }
 ],
 "metadata": {
  "kernelspec": {
   "display_name": "Bash",
   "language": "bash",
   "name": "bash"
  },
  "language_info": {
   "codemirror_mode": "shell",
   "file_extension": ".sh",
   "mimetype": "text/x-sh",
   "name": "bash"
  }
 },
 "nbformat": 4,
 "nbformat_minor": 0
}
